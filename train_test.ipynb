{
 "cells": [
  {
   "cell_type": "code",
   "execution_count": 2,
   "id": "f711afb3",
   "metadata": {},
   "outputs": [
    {
     "ename": "SyntaxError",
     "evalue": "invalid syntax (vae.py, line 76)",
     "output_type": "error",
     "traceback": [
      "Traceback \u001b[0;36m(most recent call last)\u001b[0m:\n",
      "\u001b[0m  File \u001b[1;32m~/anaconda3/envs/hf/lib/python3.9/site-packages/IPython/core/interactiveshell.py:3526\u001b[0m in \u001b[1;35mrun_code\u001b[0m\n    exec(code_obj, self.user_global_ns, self.user_ns)\u001b[0m\n",
      "\u001b[0m  Cell \u001b[1;32mIn[2], line 19\u001b[0m\n    from  models.algos import  UnifiedTrainer\u001b[0m\n",
      "\u001b[0m  File \u001b[1;32m~/hazardforge/HazardForge/src/models/algos.py:5\u001b[0m\n    from models.dm_vae import  DMVAE\u001b[0m\n",
      "\u001b[0;36m  File \u001b[0;32m~/hazardforge/HazardForge/src/models/dm_vae.py:2\u001b[0;36m\n\u001b[0;31m    from  models.vae import HF_CVAE\u001b[0;36m\n",
      "\u001b[0;36m  File \u001b[0;32m~/hazardforge/HazardForge/src/models/vae.py:76\u001b[0;36m\u001b[0m\n\u001b[0;31m    nlp:->\u001b[0m\n\u001b[0m        ^\u001b[0m\n\u001b[0;31mSyntaxError\u001b[0m\u001b[0;31m:\u001b[0m invalid syntax\n"
     ]
    }
   ],
   "source": [
    "from tbsim.utils.scene_edit_utils import UnifiedRenderer\n",
    "import numpy as np\n",
    "%matplotlib inline  \n",
    "\n",
    "import argparse\n",
    "import seaborn as sns\n",
    "import  sys\n",
    "import pytorch_lightning as pl\n",
    "import torch\n",
    "from tbsim.utils.log_utils import PrintLogger\n",
    "from tbsim.utils.batch_utils import set_global_batch_type\n",
    "from tbsim.utils.trajdata_utils import set_global_trajdata_batch_env, set_global_trajdata_batch_raster_cfg\n",
    "import tbsim.utils.train_utils as TrainUtils\n",
    "from tbsim.datasets.factory import datamodule_factory\n",
    "from tbsim.utils.env_utils import RolloutCallback\n",
    "\n",
    "import wandb,json\n",
    "from pytorch_lightning.loggers import  WandbLogger\n",
    "from  models.algos import  UnifiedTrainer\n",
    "from datetime import  datetime\n",
    "from configs.custom_config import dict_to_config,ConfigBase,serialize_object\n",
    "from src.tbsim.configs.base import ExperimentConfig\n",
    "import yaml\n",
    "import matplotlib.pyplot as plt\n",
    "import numpy as np\n",
    "from collections import defaultdict\n",
    "\n",
    "from torch.utils.data import DataLoader\n",
    "from tqdm import tqdm\n",
    "\n",
    "from trajdata import AgentBatch, AgentType, UnifiedDataset\n",
    "from trajdata.augmentation import NoiseHistories\n",
    "from trajdata.visualization.vis import plot_agent_batch\n"
   ]
  },
  {
   "cell_type": "code",
   "execution_count": null,
   "id": "3cdd43f4",
   "metadata": {},
   "outputs": [],
   "source": [
    "parser = argparse.ArgumentParser(description=\"Training Script\")\n",
    "parser.add_argument(\"--config\", type=str, default=\"/home/visier/hazardforge/HazardForge/config.yaml\", help=\"Path to YAML config\")\n",
    "\n",
    "# 直接使用默认值解析参数\n",
    "args = parser.parse_args([])  # 在 Notebook 中使用 [] 表示不传递命令行参数\n",
    "\n",
    "# 加载配置文件\n",
    "with open(args.config, \"r\") as f:\n",
    "    config_dict = yaml.safe_load(f)\n",
    "train_config = dict_to_config(ConfigBase, config_dict.get(\"train\", {}))\n",
    "env_config = dict_to_config(ConfigBase, config_dict.get(\"env\", {}))\n",
    "algo_config = dict_to_config(ConfigBase, config_dict.get(\"algo\", {}))\n",
    "default_config = ExperimentConfig(\n",
    "        train_config=train_config,\n",
    "        env_config=env_config,\n",
    "        algo_config=algo_config,\n",
    "        registered_name=config_dict.get(\"registered_name\", \"default_experiment\"),\n",
    "    )\n",
    "if default_config.train.rollout.get(\"enabled\", False):\n",
    "        default_config.env[\"eval\"] = {\"env\": default_config.env[\"name\"]}\n",
    "        assert default_config.algo[\"eval_class\"], f\"Please set an eval_class for {default_config.algo['name']}\"\n",
    "        default_config.env[\"eval\"][\"eval_class\"] = default_config.algo[\"eval_class\"]\n",
    "        default_config.env[\"eval\"][\"dataset_path\"] = default_config.train[\"trajdata_data_dirs\"][\"nusc_trainval\"]\n",
    "        env_specific_config = default_config.env.get(default_config.env[\"eval\"][\"env\"], {})\n",
    "        for key, value in env_specific_config.items():\n",
    "            default_config.env[\"eval\"][key] = value\n",
    "default_config.lock()\n",
    "cfg = default_config\n",
    "pl.seed_everything(cfg.seed)\n",
    "set_global_batch_type(\"trajdata\")\n",
    "set_global_trajdata_batch_env(cfg.train.trajdata_source_train[0])\n",
    "set_global_trajdata_batch_raster_cfg(cfg.env.rasterizer)\n",
    "print(\"\\n============= New Training Run with Config =============\")\n"
   ]
  },
  {
   "cell_type": "code",
   "execution_count": null,
   "id": "acf536d3",
   "metadata": {},
   "outputs": [],
   "source": [
    "datamodule = datamodule_factory(\n",
    "        cls_name=cfg.train.datamodule_class, config=cfg\n",
    "    )\n",
    "\n",
    "datamodule.setup()\n"
   ]
  },
  {
   "cell_type": "code",
   "execution_count": 14,
   "id": "33d84289",
   "metadata": {},
   "outputs": [
    {
     "name": "stdout",
     "output_type": "stream",
     "text": [
      "# Data Samples: 10,724\n"
     ]
    }
   ],
   "source": [
    "dataset = datamodule.train_dataset\n",
    "print(f\"# Data Samples: {len(dataset):,}\")\n",
    "dataloader = datamodule.train_dataloader()\n"
   ]
  },
  {
   "cell_type": "code",
   "execution_count": 150,
   "id": "d9461d4e",
   "metadata": {},
   "outputs": [],
   "source": [
    "batch = next(iter(dataloader))\n",
    "batch_idx=0\n"
   ]
  },
  {
   "cell_type": "code",
   "execution_count": 152,
   "id": "08b75720",
   "metadata": {},
   "outputs": [
    {
     "data": {
      "text/plain": [
       "StateArrayXYXdYdXddYddH([ 1.7852346e+03,  8.7469098e+02,  2.7600000e-02,\n",
       "                          4.8400000e-02, -1.3600000e-02,  2.6960000e-01,\n",
       "                         -3.1037629e+00], dtype=float32)"
      ]
     },
     "execution_count": 152,
     "metadata": {},
     "output_type": "execute_result"
    },
    {
     "data": {
      "image/png": "[encoded data removed]",
      "text/plain": [
       "<Figure size 640x480 with 1 Axes>"
      ]
     },
     "metadata": {},
     "output_type": "display_data"
    }
   ],
   "source": [
    "%matplotlib inline\n",
    "import matplotlib.transforms as mtransforms\n",
    "_, ax = plt.subplots()\n",
    "agent_name: str = batch[\"agent_name\"]\n",
    "agent_type = batch[\"agent_type\"]\n",
    "current_state = batch[\"curr_agent_state\"][0].numpy()\n",
    "# ax.set_title(\n",
    "#         f\"{str(agent_type)}/{agent_name}\\nat x={current_state[0]:.2f},y={current_state[1]:.2f},h={current_state[-1]:.2f}\"\n",
    "#     )\n",
    "# agent_from_world_tf= batch[\"agents_from_world_tf\"][batch_idx].cpu()\n",
    "# world_from_raster_tf= torch.linalg.inv(batch[\"rasters_from_world_tf\"][batch_idx].cpu())\n",
    "\n",
    "# agent_from_raster_tf= agent_from_world_tf @ world_from_raster_tf\n",
    "# map = batch[\"maps\"][batch_idx]\n",
    "# patch_size = map.shape[-1]\n",
    "# map_array = map.cpu().permute(1, 2, 0).numpy()\n",
    "\n",
    "# im=ax.imshow(map_array,extent=[0, patch_size, patch_size, 0],clip_on=False)\n",
    "# agent_hist = batch['agent_hist'][batch_idx].cpu()\n",
    "# agent_fut = batch['agent_fut'][batch_idx].cpu()\n",
    "# agent_extent = batch['agent_hist_extent'][batch_idx, -1, :].cpu()\n",
    "# base_frame_from_agent_tf = torch.eye(3)\n",
    "# palette = sns.color_palette(\"husl\", 4)\n",
    "# color = palette[0]\n",
    "# T = agent_hist.shape[0]#31\n",
    "# alphas = np.linspace(0.2, 0.5, T)\n",
    "\n",
    "# from trajdata.visualization.vis import draw_agent\n",
    "# # for t in range(T):\n",
    "# draw_agent(\n",
    "#     ax,\n",
    "#     agent_type,\n",
    "#     agent_hist[0],\n",
    "#     agent_extent+torch.tensor([0,0,np.pi/2]),\n",
    "#     base_frame_from_agent_tf,\n",
    "    \n",
    "# )\n",
    "current_state\n"
   ]
  },
  {
   "cell_type": "code",
   "execution_count": null,
   "id": "cb19c535",
   "metadata": {},
   "outputs": [],
   "source": []
  }
 ],
 "metadata": {
  "kernelspec": {
   "display_name": "hf",
   "language": "python",
   "name": "python3"
  },
  "language_info": {
   "codemirror_mode": {
    "name": "ipython",
    "version": 3
   },
   "file_extension": ".py",
   "mimetype": "text/x-python",
   "name": "python",
   "nbconvert_exporter": "python",
   "pygments_lexer": "ipython3",
   "version": "3.9.20"
  }
 },
 "nbformat": 4,
 "nbformat_minor": 5
}
