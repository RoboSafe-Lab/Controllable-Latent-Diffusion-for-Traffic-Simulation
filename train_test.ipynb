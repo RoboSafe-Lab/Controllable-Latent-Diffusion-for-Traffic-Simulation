{
 "cells": [
  {
   "cell_type": "code",
   "execution_count": 2,
   "id": "9a706abb",
   "metadata": {},
   "outputs": [
    {
     "name": "stdout",
     "output_type": "stream",
     "text": [
      "The Zen of Python, by Tim Peters\n",
      "\n",
      "Beautiful is better than ugly.\n",
      "Explicit is better than implicit.\n",
      "Simple is better than complex.\n",
      "Complex is better than complicated.\n",
      "Flat is better than nested.\n",
      "Sparse is better than dense.\n",
      "Readability counts.\n",
      "Special cases aren't special enough to break the rules.\n",
      "Although practicality beats purity.\n",
      "Errors should never pass silently.\n",
      "Unless explicitly silenced.\n",
      "In the face of ambiguity, refuse the temptation to guess.\n",
      "There should be one-- and preferably only one --obvious way to do it.\n",
      "Although that way may not be obvious at first unless you're Dutch.\n",
      "Now is better than never.\n",
      "Although never is often better than *right* now.\n",
      "If the implementation is hard to explain, it's a bad idea.\n",
      "If the implementation is easy to explain, it may be a good idea.\n",
      "Namespaces are one honking great idea -- let's do more of those!\n",
      "registered_name: l5_bc\n",
      "registered_name: l5_gan\n",
      "registered_name: l5_bc_gc\n",
      "registered_name: l5_spatial_planner\n",
      "registered_name: l5_agent_predictor\n",
      "registered_name: l5_vae\n",
      "registered_name: l5_bc_ec\n",
      "registered_name: l5_discrete_vae\n",
      "registered_name: l5_tree_vae\n",
      "registered_name: l5_transformer\n",
      "registered_name: l5_transformer_gan\n",
      "registered_name: l5_ebm\n",
      "registered_name: l5_occupancy\n",
      "registered_name: l5_diff\n",
      "registered_name: eupeds_bc\n",
      "registered_name: eupeds_vae\n",
      "registered_name: orca_bc\n",
      "registered_name: orca_diff\n",
      "registered_name: trajdata_l5_bc\n",
      "registered_name: trajdata_l5_vae\n",
      "registered_name: trajdata_l5_spatial_planner\n",
      "registered_name: trajdata_l5_agent_predictor\n",
      "registered_name: trajdata_l5_diff\n",
      "registered_name: trajdata_nuplan_bc\n",
      "registered_name: trajdata_nuplan_spatial_planner\n",
      "registered_name: trajdata_nuplan_agent_predictor\n",
      "registered_name: trajdata_nuplan_diff\n",
      "registered_name: trajdata_nuplan_ped_diff\n",
      "registered_name: trajdata_nuplan_all_diff\n",
      "registered_name: trajdata_nuplan_scene_diff\n",
      "registered_name: trajdata_drivesim_diff\n"
     ]
    }
   ],
   "source": [
    "import os,yaml,argparse\n",
    "import pytorch_lightning as pl\n",
    "from tbsim.utils.batch_utils import set_global_batch_type\n",
    "from tbsim.utils.trajdata_utils import set_global_trajdata_batch_env, set_global_trajdata_batch_raster_cfg\n",
    "from datetime import  datetime\n",
    "from tbsim.datasets.trajdata_datamodules import PassUnifiedDataModule\n",
    "from configs.custom_config import dict_to_config,ConfigBase\n",
    "from tbsim.configs.base import ExperimentConfig\n",
    "from utils.trainer_utils import prepare_trainer_and_data\n",
    "from tbsim.utils.trajdata_utils import set_global_trajdata_batch_env, set_global_trajdata_batch_raster_cfg\n",
    "from tbsim.utils.batch_utils import batch_utils\n",
    "from tbsim.utils.batch_utils import set_global_batch_type\n",
    "from tbsim.utils.config_utils import translate_pass_trajdata_cfg\n",
    "import matplotlib.patches as patches\n",
    "\n",
    "from tbsim.utils.batch_utils import batch_utils\n",
    "import matplotlib.pyplot as plt\n",
    "import numpy as np\n",
    "from tbsim.utils.scene_edit_utils import get_agt_color\n",
    "COLORS = {\n",
    "    \"agent_contour\": \"#247BA0\",\n",
    "    \"agent_fill\": \"#56B1D8\",\n",
    "    \"ego_contour\": \"#911A12\",\n",
    "    \"ego_fill\": \"#FE5F55\",\n",
    "}\n",
    "\n",
    "import tbsim.utils.geometry_utils as GeoUtils\n",
    "\n",
    "from l5kit.geometry import transform_points\n",
    "import tbsim.utils.geometry_utils as GeoUtils"
   ]
  },
  {
   "cell_type": "code",
   "execution_count": 3,
   "id": "579fb867",
   "metadata": {},
   "outputs": [
    {
     "name": "stderr",
     "output_type": "stream",
     "text": [
      "Seed set to 1\n"
     ]
    },
    {
     "name": "stdout",
     "output_type": "stream",
     "text": [
      "registered_name: default_experiment\n",
      "data_cfg.trajdata_predict_types ['vehicle']\n",
      "{'cache_location': '~/my_custom_cache_location', 'desired_data': ['nusc_trainval-train', 'nusc_trainval-train_val'], 'desired_dt': 0.1, 'future_sec': (5.2, 5.2), 'history_sec': (3.0, 3.0), 'data_dirs': <configs.custom_config.ConfigBase object at 0x72438c97e280>, 'only_types': [<AgentType.VEHICLE: 1>], 'only_predict': [<AgentType.VEHICLE: 1>], 'agent_interaction_distances': defaultdict(<function PassUnifiedDataModule.setup.<locals>.<lambda> at 0x72438c9e0820>, {}), 'incl_raster_map': True, 'raster_map_params': {'px_per_m': 2, 'map_size_px': 224, 'return_rgb': False, 'offset_frac_xy': [-0.5, 0.0], 'no_map_fill_value': -1.0}, 'incl_vector_map': True, 'centric': 'agent', 'scene_description_contains': None, 'standardize_data': True, 'verbose': True, 'max_agent_num': None, 'num_workers': 24, 'rebuild_cache': False, 'rebuild_maps': False, 'extras': {'closest_lane_point': <function get_closest_lane_point_wrapper.<locals>.get_closest_lane_point at 0x72438c999ca0>, 'full_fut_traj': <function get_full_fut_traj at 0x7243457c4c10>, 'full_fut_valid': <function get_full_fut_valid at 0x7243457c4ca0>}}\n",
      "Loading data for matched scene tags: ['boston-train-nusc_trainval', 'singapore-train-nusc_trainval', 'boston-train_val-nusc_trainval', 'train_val-singapore-nusc_trainval']\n"
     ]
    },
    {
     "name": "stderr",
     "output_type": "stream",
     "text": [
      "/home/visier/ctg_project/trajdata/src/trajdata/dataset_specific/nusc/nusc_dataset.py:62: UserWarning: Beware, nusc_test has no annotations!\n",
      "  warnings.warn(\"Beware, nusc_test has no annotations!\")\n",
      "Calculating Agent Data (Serially): 100%|██████████| 700/700 [00:00<00:00, 107660.62it/s]"
     ]
    },
    {
     "name": "stdout",
     "output_type": "stream",
     "text": [
      "700 scenes in the scene index.\n"
     ]
    },
    {
     "name": "stderr",
     "output_type": "stream",
     "text": [
      "\n",
      "Creating Agent Data Index (24 CPUs): 100%|██████████| 700/700 [00:00<00:00, 4170.76it/s]\n",
      "Structuring Agent Data Index: 100%|██████████| 700/700 [00:00<00:00, 69116.81it/s]"
     ]
    },
    {
     "name": "stdout",
     "output_type": "stream",
     "text": [
      "Loading data for matched scene tags: ['boston-val-nusc_trainval', 'val-singapore-nusc_trainval']\n"
     ]
    },
    {
     "name": "stderr",
     "output_type": "stream",
     "text": [
      "\n",
      "Calculating Agent Data (Serially): 100%|██████████| 150/150 [00:00<00:00, 126614.13it/s]"
     ]
    },
    {
     "name": "stdout",
     "output_type": "stream",
     "text": [
      "150 scenes in the scene index.\n"
     ]
    },
    {
     "name": "stderr",
     "output_type": "stream",
     "text": [
      "\n",
      "Creating Agent Data Index (24 CPUs): 100%|██████████| 150/150 [00:00<00:00, 3896.68it/s]\n",
      "Structuring Agent Data Index: 100%|██████████| 150/150 [00:00<00:00, 64680.33it/s]\n"
     ]
    }
   ],
   "source": [
    "parser = argparse.ArgumentParser(description=\"Training Script\")\n",
    "parser.add_argument(\"--config\", type=str, default=\"./config.yaml\", help=\"Path to YAML config\")\n",
    "args = parser.parse_args([])\n",
    "with open(args.config, \"r\") as f:\n",
    "    config_dict = yaml.safe_load(f)\n",
    "train_config = dict_to_config(ConfigBase, config_dict.get(\"train\", {}))\n",
    "env_config = dict_to_config(ConfigBase, config_dict.get(\"env\", {}))\n",
    "algo_config = dict_to_config(ConfigBase, config_dict.get(\"algo\", {}))\n",
    "default_config = ExperimentConfig(\n",
    "    train_config=train_config,\n",
    "    env_config=env_config,\n",
    "    algo_config=algo_config,\n",
    "    registered_name=config_dict.get(\"registered_name\", \"default_experiment\"),\n",
    ")\n",
    "  \n",
    "default_config.lock()\n",
    "cfg = default_config\n",
    "pl.seed_everything(default_config.seed)\n",
    "set_global_batch_type(\"trajdata\")\n",
    "set_global_trajdata_batch_env(default_config.train.trajdata_source_train[0])\n",
    "set_global_trajdata_batch_raster_cfg(default_config.env.rasterizer)\n",
    "\n",
    "trajdata_config = translate_pass_trajdata_cfg(cfg)\n",
    "datamodule = PassUnifiedDataModule(trajdata_config, cfg.train)\n",
    "datamodule.setup()"
   ]
  },
  {
   "cell_type": "code",
   "execution_count": 4,
   "id": "4f907de5",
   "metadata": {},
   "outputs": [
    {
     "data": {
      "text/plain": [
       "dict_keys(['data_idx', 'scene_ts', 'dt', 'agent_name', 'agent_type', 'curr_agent_state', 'agent_hist', 'agent_hist_extent', 'agent_hist_len', 'agent_fut', 'agent_fut_extent', 'agent_fut_len', 'num_neigh', 'neigh_indices', 'neigh_types', 'neigh_hist', 'neigh_hist_extents', 'neigh_hist_len', 'neigh_fut', 'neigh_fut_extents', 'neigh_fut_len', 'robot_fut_len', 'map_names', 'maps', 'maps_resolution', 'vector_maps', 'rasters_from_world_tf', 'agents_from_world_tf', 'scene_ids', 'history_pad_dir', 'extras', 'image', 'drivable_map', 'target_positions', 'target_yaws', 'target_availabilities', 'history_positions', 'history_yaws', 'history_speeds', 'history_availabilities', 'curr_speed', 'centroid', 'yaw', 'type', 'extent', 'raster_from_agent', 'agent_from_raster', 'raster_from_world', 'agent_from_world', 'world_from_agent', 'all_other_agents_indices', 'all_other_agents_history_positions', 'all_other_agents_history_yaws', 'all_other_agents_history_speeds', 'all_other_agents_history_availabilities', 'all_other_agents_history_availability', 'all_other_agents_curr_speed', 'all_other_agents_future_positions', 'all_other_agents_future_yaws', 'all_other_agents_future_availability', 'all_other_agents_types', 'all_other_agents_extents', 'all_other_agents_history_extents'])"
      ]
     },
     "execution_count": 4,
     "metadata": {},
     "output_type": "execute_result"
    }
   ],
   "source": [
    "train_loader = datamodule.train_dataloader()\n",
    "batch = next(iter(train_loader))\n",
    "\n",
    "batch =batch_utils().parse_batch(batch)\n",
    "batch.keys()"
   ]
  },
  {
   "cell_type": "code",
   "execution_count": 9,
   "id": "c5df1995",
   "metadata": {},
   "outputs": [
    {
     "data": {
      "text/plain": [
       "torch.Size([57, 52])"
      ]
     },
     "execution_count": 9,
     "metadata": {},
     "output_type": "execute_result"
    },
    {
     "data": {
      "image/png": "[encoded data removed]",
      "text/plain": [
       "<Figure size 800x800 with 3 Axes>"
      ]
     },
     "metadata": {},
     "output_type": "display_data"
    }
   ],
   "source": [
    "%matplotlib inline\n",
    "idx=1\n",
    "fig, (ax1,ax2,ax3) = plt.subplots(1,3, figsize=(8,8))\n",
    "image = batch['image'][idx].permute(1,2,0).cpu().numpy()\n",
    "ax1.imshow(image[...,-3:]*0.5+0.5)\n",
    "hist_data = image[..., :31]\n",
    "# hist_sum = hist_data.sum(axis=-1)\n",
    "\n",
    "\n",
    "\n",
    "drivable_map = batch['drivable_map'][idx].cpu().numpy()\n",
    "ax2.imshow(drivable_map, cmap=\"gray\")\n",
    "ax2.set_title(\"Drivable Map + Future Traj\")\n",
    "# hist_sum = np.sum(image[:,:, :31], axis=-1)\n",
    "\n",
    "raster_from_agent = batch['raster_from_agent'][idx]\n",
    "target_position = batch['target_positions'][idx]\n",
    "target_raster = transform_points(target_position,raster_from_agent)\n",
    "\n",
    "ax1.scatter(target_raster[:,0], target_raster[:,1], c='b', s=1, label='future')\n",
    "\n",
    "\n",
    "extent = batch['agent_fut_extent'][idx][:,:2].cpu().numpy()\n",
    "\n",
    "yaw = batch['target_yaws'][idx].cpu().numpy()\n",
    "pos = target_position.cpu().numpy()\n",
    "boxes = GeoUtils.get_box_world_coords_np(pos, yaw, extent)\n",
    "\n",
    "boxes_raster = transform_points(boxes, raster_from_agent)\n",
    "boxes_raster = boxes_raster.reshape((-1, 4, 2))\n",
    "for bi, b in enumerate(boxes_raster):\n",
    "    cur_fill_color = get_agt_color(bi)\n",
    "    cur_outline_color = \"grey\"\n",
    "    rect = patches.Polygon(b, fill=True, color=cur_fill_color, zorder=3)\n",
    "    ax2.add_patch(rect)\n",
    "\n",
    "hist_position= batch['history_positions'][idx].cpu().numpy()\n",
    "hist_raster  = transform_points(hist_position,raster_from_agent)\n",
    "# ax1.scatter(hist_raster[:,0],hist_raster[:,1],c='r',s=0.1)\n",
    "num_neigh = batch['neigh_indices']\n",
    "\n",
    "yaw_hist = batch['history_yaws'][idx].cpu().numpy()\n",
    "pos_hist = batch['agent_hist'][idx][:,:2].cpu().numpy()  #hist_position\n",
    "extent_hist = batch['agent_hist_extent'][idx][:,:2].cpu().numpy()\n",
    "boxes_hist = GeoUtils.get_box_world_coords_np(pos_hist,yaw_hist,extent_hist)\n",
    "boxes_raster_hist = transform_points(boxes_hist,raster_from_agent)\n",
    "boxes_raster_hist = boxes_raster_hist.reshape((-1,4,2))\n",
    "# for bi, b in enumerate(boxes_raster_hist):\n",
    "#     cur_fill_color = get_agt_color(bi+1)\n",
    "#     cur_outline_color = \"grey\"\n",
    "#     rect = patches.Polygon(b, fill=True, color=cur_fill_color, zorder=3)\n",
    "#     ax1.add_patch(rect)\n",
    "\n",
    "for i in range(2):\n",
    "    neighbor_hist = batch['neigh_hist'][idx][i,:,:2]\n",
    "    neigh_raster = transform_points(neighbor_hist,raster_from_agent)\n",
    "    ax1.scatter(neigh_raster[:,0], neigh_raster[:,1], c='g', s=0.05, label='future')\n",
    "\n",
    "for i in range(2):\n",
    "    neighbor_fut = batch['neigh_fut'][idx][i,:,:2]\n",
    "    neigh_raster = transform_points(neighbor_fut,raster_from_agent)\n",
    "    ax1.scatter(neigh_raster[:,0], neigh_raster[:,1], c='w', s=0.05, label='future')\n",
    "\n",
    "full_traj = batch['extras']['full_fut_traj'][idx][:,:2].cpu().numpy()\n",
    "full_traj_raster = transform_points(full_traj,raster_from_agent)\n",
    "ax1.scatter(full_traj_raster[:,0],full_traj_raster[:,1],c='r',s=0.12)\n",
    "\n",
    "ax3.imshow(drivable_map, cmap=\"gray\")\n",
    "# for i in range(15):\n",
    "#     cur_fill_color = get_agt_color(i)\n",
    "#     closest_lane = batch['extras']['closest_lane_point'][idx][i,:,:2].cpu().numpy()\n",
    "#     lane_raster = transform_points(closest_lane, raster_from_agent)\n",
    "#     for il in range(80):\n",
    "#         ax3.scatter(lane_raster[il,0],lane_raster[il,1],c=cur_fill_color,s=0.1)\n",
    "all_agents_fut = batch['all_other_agents_future_positions'][idx]\n",
    "raster_all_fut = transform_points(all_agents_fut,raster_from_agent)\n",
    "# for i in range(57):\n",
    "\n",
    "#     ax3.scatter(raster_all_fut[i,:,0],raster_all_fut[i,:,1],c='r',s=0.12)\n",
    "\n",
    "ax3.imshow(hist_data[...,3], cmap=\"gray\")\n",
    "batch['all_other_agents_future_availability'][idx].shape"
   ]
  },
  {
   "cell_type": "code",
   "execution_count": null,
   "id": "ce79c933",
   "metadata": {},
   "outputs": [],
   "source": [
    "import  torch\n",
    "t = torch.randint(0, 20, (4,)).long()\n",
    "import torch.nn as nn\n",
    "from tbsim.models.diffuser_helpers import SinusoidalPosEmb"
   ]
  },
  {
   "cell_type": "code",
   "execution_count": 3,
   "id": "0e5dd4a9",
   "metadata": {},
   "outputs": [
    {
     "data": {
      "text/plain": [
       "tensor([1, 8, 6, 5])"
      ]
     },
     "execution_count": 3,
     "metadata": {},
     "output_type": "execute_result"
    }
   ],
   "source": [
    "t = torch.randint(0,10, (4,)).long()\n",
    "t\n"
   ]
  },
  {
   "cell_type": "code",
   "execution_count": null,
   "id": "defc488b",
   "metadata": {},
   "outputs": [],
   "source": []
  },
  {
   "cell_type": "code",
   "execution_count": 14,
   "id": "43e39ac5",
   "metadata": {},
   "outputs": [
    {
     "data": {
      "text/plain": [
       "torch.Size([4, 6])"
      ]
     },
     "execution_count": 14,
     "metadata": {},
     "output_type": "execute_result"
    }
   ],
   "source": [
    "time_dim =6\n",
    "time_mlp = nn.Sequential(\n",
    "            SinusoidalPosEmb(time_dim),\n",
    "            nn.Linear(time_dim, time_dim * 4),\n",
    "            nn.Mish(),\n",
    "            nn.Linear(time_dim * 4, time_dim),\n",
    "        )\n",
    "time = time_mlp(t)\n",
    "time.shape"
   ]
  }
 ],
 "metadata": {
  "kernelspec": {
   "display_name": "hf",
   "language": "python",
   "name": "python3"
  },
  "language_info": {
   "codemirror_mode": {
    "name": "ipython",
    "version": 3
   },
   "file_extension": ".py",
   "mimetype": "text/x-python",
   "name": "python",
   "nbconvert_exporter": "python",
   "pygments_lexer": "ipython3",
   "version": "3.9.20"
  }
 },
 "nbformat": 4,
 "nbformat_minor": 5
}
