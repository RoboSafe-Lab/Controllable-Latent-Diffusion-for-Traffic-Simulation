{
 "cells": [
  {
   "metadata": {
    "ExecuteTime": {
     "end_time": "2024-12-06T00:47:56.431370Z",
     "start_time": "2024-12-06T00:47:55.540535Z"
    }
   },
   "cell_type": "code",
   "source": [
    "\n",
    "import  wandb\n",
    "wandb.login()"
   ],
   "id": "d248a2f8138a3efe",
   "outputs": [
    {
     "name": "stderr",
     "output_type": "stream",
     "text": [
      "\u001B[34m\u001B[1mwandb\u001B[0m: Using wandb-core as the SDK backend.  Please refer to https://wandb.me/wandb-core for more information.\n",
      "\u001B[34m\u001B[1mwandb\u001B[0m: Currently logged in as: \u001B[33myx3006\u001B[0m (\u001B[33myx3006-heriot-watt-university\u001B[0m). Use \u001B[1m`wandb login --relogin`\u001B[0m to force relogin\n"
     ]
    },
    {
     "data": {
      "text/plain": [
       "True"
      ]
     },
     "execution_count": 1,
     "metadata": {},
     "output_type": "execute_result"
    }
   ],
   "execution_count": 1
  },
  {
   "metadata": {
    "ExecuteTime": {
     "end_time": "2024-12-06T00:30:32.620881Z",
     "start_time": "2024-12-06T00:30:32.619039Z"
    }
   },
   "cell_type": "code",
   "source": [
    "import  os\n",
    "print(os.environ)\n"
   ],
   "id": "228cb90078a9fdad",
   "outputs": [
    {
     "name": "stdout",
     "output_type": "stream",
     "text": [
      "environ({'GSM_SKIP_SSH_AGENT_WORKAROUND': 'true', 'GJS_DEBUG_TOPICS': 'JS ERROR;JS LOG', 'LC_ALL': 'en_US.UTF-8', 'WINDOWPATH': '2', 'GJS_DEBUG_OUTPUT': 'stderr', 'GNOME_SHELL_SESSION_MODE': 'ubuntu', 'PATH': '/home/visier/anaconda3/envs/hf/bin:/home/visier/anaconda3/condabin:/usr/local/sbin:/usr/local/bin:/usr/sbin:/usr/bin:/sbin:/bin:/usr/games:/usr/local/games:/snap/bin:/snap/bin', 'CONDA_PREFIX': '/home/visier/anaconda3/envs/hf', 'LOGNAME': 'visier', 'XDG_MENU_PREFIX': 'gnome-', 'XDG_CONFIG_DIRS': '/etc/xdg/xdg-ubuntu:/etc/xdg', 'XDG_ACTIVATION_TOKEN': 'gnome-shell/PyCharm Professional Edition/2935-2-Visier-Ubuntu_TIME81021', 'XAUTHORITY': '/run/user/1000/gdm/Xauthority', 'CONDA_SHLVL': '1', 'XMODIFIERS': '@im=ibus', 'GIO_LAUNCHED_DESKTOP_FILE_PID': '4764', 'GIO_LAUNCHED_DESKTOP_FILE': '/usr/share/applications/jetbrains-pycharm.desktop', 'QT_ACCESSIBILITY': '1', 'CONDA_DEFAULT_ENV': 'hf', 'QTWEBENGINE_DICTIONARIES_PATH': '/usr/share/hunspell-bdic/', 'XDG_SESSION_DESKTOP': 'ubuntu', 'DBUS_SESSION_BUS_ADDRESS': 'unix:path=/run/user/1000/bus', 'INVOCATION_ID': 'c3ede114aacb451eb22cfc239c0e2d2f', 'CONDA_PROMPT_MODIFIER': '(hf) ', 'USERNAME': 'visier', 'SHLVL': '0', 'XDG_DATA_DIRS': '/usr/share/ubuntu:/usr/share/gnome:/usr/local/share/:/usr/share/:/var/lib/snapd/desktop', 'SHELL': '/bin/zsh', 'PYTHONPATH': '/home/visier/hazardforge:/home/visier/hazardforge/HazardForge:/home/visier/hazardforge/HazardForge/src:/home/visier/pycharm-2024.3/plugins/python-ce/helpers/pydev:/home/visier/pycharm-2024.3/plugins/python/helpers-pro/jupyter_debug', 'SESSION_MANAGER': 'local/Visier-Ubuntu:@/tmp/.ICE-unix/2906,unix/Visier-Ubuntu:/tmp/.ICE-unix/2906', 'XDG_SESSION_CLASS': 'user', 'GTK_MODULES': 'gail:atk-bridge', 'DISPLAY': ':1', 'HOME': '/home/visier', 'MEMORY_PRESSURE_WATCH': '/sys/fs/cgroup/user.slice/user-1000.slice/user@1000.service/session.slice/org.gnome.Shell@x11.service/memory.pressure', 'XDG_CURRENT_DESKTOP': 'ubuntu:GNOME', 'DEBUGINFOD_URLS': 'https://debuginfod.ubuntu.com ', 'QT_IM_MODULE': 'ibus', 'LANG': 'en_US.UTF-8', 'GDMSESSION': 'ubuntu', 'GNOME_DESKTOP_SESSION_ID': 'this-is-deprecated', 'LANGUAGE': '', 'MEMORY_PRESSURE_WRITE': 'c29tZSAyMDAwMDAgMjAwMDAwMAA=', 'SYSTEMD_EXEC_PID': '2935', 'SSH_AUTH_SOCK': '/run/user/1000/keyring/ssh', 'XDG_RUNTIME_DIR': '/run/user/1000', 'GPG_AGENT_INFO': '/run/user/1000/gnupg/S.gpg-agent:0:1', 'MANAGERPID': '2484', 'DESKTOP_SESSION': 'ubuntu', 'USER': 'visier', 'XDG_SESSION_TYPE': 'x11', 'PWD': '/home/visier', 'JOURNAL_STREAM': '8:3773', 'JPY_SESSION_NAME': 'HazardForge/scripts/train_test.ipynb', 'JPY_PARENT_PID': '5360', 'PYDEVD_USE_FRAME_EVAL': 'NO', 'TERM': 'xterm-color', 'CLICOLOR': '1', 'FORCE_COLOR': '1', 'CLICOLOR_FORCE': '1', 'PAGER': 'cat', 'GIT_PAGER': 'cat', 'MPLBACKEND': 'module://matplotlib_inline.backend_inline', 'WANDB_SERVICE': '2-5377-tcp-localhost-41077'})\n"
     ]
    }
   ],
   "execution_count": 11
  },
  {
   "metadata": {
    "ExecuteTime": {
     "end_time": "2024-12-06T00:29:54.649880Z",
     "start_time": "2024-12-06T00:29:54.648523Z"
    }
   },
   "cell_type": "code",
   "source": "",
   "id": "9c7f7e24070b1829",
   "outputs": [],
   "execution_count": null
  }
 ],
 "metadata": {
  "kernelspec": {
   "display_name": "Python 3",
   "language": "python",
   "name": "python3"
  },
  "language_info": {
   "codemirror_mode": {
    "name": "ipython",
    "version": 2
   },
   "file_extension": ".py",
   "mimetype": "text/x-python",
   "name": "python",
   "nbconvert_exporter": "python",
   "pygments_lexer": "ipython2",
   "version": "2.7.6"
  }
 },
 "nbformat": 4,
 "nbformat_minor": 5
}
